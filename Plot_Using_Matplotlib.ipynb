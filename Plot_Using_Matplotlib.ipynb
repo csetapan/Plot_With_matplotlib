{
  "nbformat": 4,
  "nbformat_minor": 0,
  "metadata": {
    "colab": {
      "provenance": [],
      "mount_file_id": "1w-hjVSxzrjqN1KIVhudHoG_acdh26x-K",
      "authorship_tag": "ABX9TyMReHMErWVaEhYpbugKXOzX",
      "include_colab_link": true
    },
    "kernelspec": {
      "name": "python3",
      "display_name": "Python 3"
    },
    "language_info": {
      "name": "python"
    }
  },
  "cells": [
    {
      "cell_type": "markdown",
      "metadata": {
        "id": "view-in-github",
        "colab_type": "text"
      },
      "source": [
        "<a href=\"https://colab.research.google.com/github/csetapan/Plot_With_matplotlib/blob/main/Plot_Using_Matplotlib.ipynb\" target=\"_parent\"><img src=\"https://colab.research.google.com/assets/colab-badge.svg\" alt=\"Open In Colab\"/></a>"
      ]
    },
    {
      "cell_type": "markdown",
      "source": [
        "##Plot using matplot lib"
      ],
      "metadata": {
        "id": "qIQ6p9f3w1Oi"
      }
    },
    {
      "cell_type": "markdown",
      "source": [
        "Creating and customizing our first plot"
      ],
      "metadata": {
        "id": "ijuiIP0yxSQa"
      }
    },
    {
      "cell_type": "code",
      "source": [
        "import matplotlib.pyplot as plt\n",
        "x = [25,26,27,28,29,30,31,32,33,34,35]\n",
        "y = [38496, 42000, 46752, 49320, 53200,\n",
        "     56000, 62316, 64928, 67317, 68748, 73752]\n",
        "plt.plot(x,y)\n",
        "plt.xlabel('Ages')\n",
        "plt.ylabel('Median salary (USD)')\n",
        "plt.title('Median salary (USD) by Age')\n",
        "plt.show()"
      ],
      "metadata": {
        "id": "Ny5yizxNxYG3"
      },
      "execution_count": null,
      "outputs": []
    },
    {
      "cell_type": "markdown",
      "source": [
        "Two plots in same graph"
      ],
      "metadata": {
        "id": "wOR50kiT1HTk"
      }
    },
    {
      "cell_type": "code",
      "source": [
        "import matplotlib.pyplot as plt\n",
        "x = [25,26,27,28,29,30,31,32,33,34,35]\n",
        "y = [38496, 42000, 46752, 49320, 53200,\n",
        "     56000, 62316, 64928, 67317, 68748, 73752]\n",
        "plt.plot(x,y)\n",
        "y1 = [45372, 48876, 53850, 57287, 63016, 65998, 70003, 70000, 71496, 75370, 83640]\n",
        "plt.plot(x,y1)\n",
        "plt.xlabel('Ages')\n",
        "plt.ylabel('Median salary (USD)')\n",
        "plt.title('Median salary (USD) by Age')\n",
        "plt.show()"
      ],
      "metadata": {
        "id": "a5-TGwWHyFMD"
      },
      "execution_count": null,
      "outputs": []
    },
    {
      "cell_type": "markdown",
      "source": [
        "Adding legends to the plot"
      ],
      "metadata": {
        "id": "ON53lrku1akI"
      }
    },
    {
      "cell_type": "code",
      "source": [
        "import matplotlib.pyplot as plt\n",
        "x = [25,26,27,28,29,30,31,32,33,34,35]\n",
        "y = [38496, 42000, 46752, 49320, 53200,\n",
        "     56000, 62316, 64928, 67317, 68748, 73752]\n",
        "plt.plot(x,y,label='Salary in UK')\n",
        "y1 = [45372, 48876, 53850, 57287, 63016, 65998, 70003, 70000, 71496, 75370, 83640]\n",
        "plt.plot(x,y1,label='Salary in USA')\n",
        "plt.xlabel('Ages')\n",
        "plt.ylabel('Median salary (USD)')\n",
        "plt.title('Median salary (USD) by Age')\n",
        "plt.legend(['Salary in UK','Salary in USA'])\n",
        "plt.show()"
      ],
      "metadata": {
        "id": "fH9QhL5h1Ry_"
      },
      "execution_count": null,
      "outputs": []
    },
    {
      "cell_type": "markdown",
      "source": [
        "Formatting the plot\n",
        "fmt = '[marker][line][color]'\n",
        "\n",
        "1.   marker description\n",
        "      '.'   point marker\n",
        "      ','   pixel marker\n",
        "      'o'   circle marker\n",
        "      'v'   tringle_down marker\n",
        "      '^'   tringle_up marker\n",
        "      '<'   tringle_left marker\n",
        "      '>'   tringle_right marker\n",
        "      '1'   tri_down marker\n",
        "      '2'   tri_up marker\n",
        "      '3'   tri_left marker\n",
        "      '4'   tri_right marker\n",
        "      's'   square marker\n",
        "      'p'   pentagon marker\n",
        "      '*'   star marker\n",
        "      'h'   hexagon1 marker\n",
        "      'H'   hexagon2 marker\n",
        "      '+'   plus marker\n",
        "      'x'   x marker\n",
        "      'D'   Diamond marker\n",
        "      'd'   thin marker\n",
        "      '|'   vline marker\n",
        "      '_'   hline marker\n",
        "      \n",
        "\n",
        "2.   Line style description\n",
        "      '-'   solid line style\n",
        "      '--'  dashed line style\n",
        "      '-.'  dashed dot line style\n",
        "      ':'   dotted line style\n",
        "\n",
        "\n",
        "3.   Color description\n",
        "      'b'  blue color\n",
        "      'g'  green color\n",
        "      'r'  red color\n",
        "      'c'  cyan color\n",
        "      'm'  magneta color\n",
        "      'y'  yellow color\n",
        "      'k'  black color"
      ],
      "metadata": {
        "id": "O1IlWywC3i3o"
      }
    },
    {
      "cell_type": "code",
      "source": [
        "#Implementing '[marker][line][color]'\n",
        "import matplotlib.pyplot as plt\n",
        "x = [25,26,27,28,29,30,31,32,33,34,35]\n",
        "y = [38496, 42000, 46752, 49320, 53200,\n",
        "     56000, 62316, 64928, 67317, 68748, 73752]\n",
        "plt.plot(x,y,'o--r',label='Salary in UK')\n",
        "y1 = [45372, 48876, 53850, 57287, 63016, 65998, 70003, 70000, 71496, 75370, 83640]\n",
        "plt.plot(x,y1,'d--y',label='Salary in USA')\n",
        "plt.xlabel('Ages')\n",
        "plt.ylabel('Median salary (USD)')\n",
        "plt.title('Median salary (USD) by Age')\n",
        "plt.legend(['Salary in UK','Salary in USA'])\n",
        "plt.show()"
      ],
      "metadata": {
        "id": "rg1zC2qq15tv"
      },
      "execution_count": null,
      "outputs": []
    },
    {
      "cell_type": "markdown",
      "source": [
        "Increasing the line width"
      ],
      "metadata": {
        "id": "mT7atDtf_IB4"
      }
    },
    {
      "cell_type": "code",
      "source": [
        "#Implementing line width\n",
        "import matplotlib.pyplot as plt\n",
        "x = [25,26,27,28,29,30,31,32,33,34,35]\n",
        "y = [38496, 42000, 46752, 49320, 53200,\n",
        "     56000, 62316, 64928, 67317, 68748, 73752]\n",
        "plt.plot(x,y,'o--r',linewidth=3,label='Salary in UK')\n",
        "y1 = [45372, 48876, 53850, 57287, 63016, 65998, 70003, 70000, 71496, 75370, 83640]\n",
        "plt.plot(x,y1,'d--y',linewidth=1,label='Salary in USA')\n",
        "plt.xlabel('Ages')\n",
        "plt.ylabel('Median salary (USD)')\n",
        "plt.title('Median salary (USD) by Age')\n",
        "plt.legend(['Salary in UK','Salary in USA'])\n",
        "plt.show()"
      ],
      "metadata": {
        "id": "86dl5m8T-v0v"
      },
      "execution_count": null,
      "outputs": []
    },
    {
      "cell_type": "markdown",
      "source": [
        "Grid the plot"
      ],
      "metadata": {
        "id": "S5pgG3e3_YF8"
      }
    },
    {
      "cell_type": "code",
      "source": [
        "#Gridding the plot\n",
        "import matplotlib.pyplot as plt\n",
        "x = [25,26,27,28,29,30,31,32,33,34,35]\n",
        "y = [38496, 42000, 46752, 49320, 53200,\n",
        "     56000, 62316, 64928, 67317, 68748, 73752]\n",
        "plt.plot(x,y,'o--r',linewidth=3,label='Salary in UK')\n",
        "y1 = [45372, 48876, 53850, 57287, 63016, 65998, 70003, 70000, 71496, 75370, 83640]\n",
        "plt.plot(x,y1,'d--y',linewidth=1,label='Salary in USA')\n",
        "plt.xlabel('Ages')\n",
        "plt.ylabel('Median salary (USD)')\n",
        "plt.title('Median salary (USD) by Age')\n",
        "plt.legend(['Salary in UK','Salary in USA'])\n",
        "plt.grid(True)\n",
        "plt.show()"
      ],
      "metadata": {
        "id": "3j65gHD0_jMq"
      },
      "execution_count": null,
      "outputs": []
    },
    {
      "cell_type": "markdown",
      "source": [
        "Different style of plot\n",
        "\n",
        "\n",
        "1.   default\n",
        "2.   ggplot\n",
        "3.   seaborn\n",
        "4.   dark_background\n",
        "5.   grayscale\n",
        "\n"
      ],
      "metadata": {
        "id": "BSsTLu9L_tqc"
      }
    },
    {
      "cell_type": "code",
      "source": [
        "#Stylling the plot\n",
        "import matplotlib.pyplot as plt\n",
        "plt.style.use('dark_background')\n",
        "x = [25,26,27,28,29,30,31,32,33,34,35]\n",
        "y = [38496, 42000, 46752, 49320, 53200,\n",
        "     56000, 62316, 64928, 67317, 68748, 73752]\n",
        "plt.plot(x,y,'o--r',linewidth=3,label='Salary in UK')\n",
        "y1 = [45372, 48876, 53850, 57287, 63016, 65998, 70003, 70000, 71496, 75370, 83640]\n",
        "plt.plot(x,y1,'d--y',linewidth=1,label='Salary in USA')\n",
        "plt.xlabel('Ages')\n",
        "plt.ylabel('Median salary (USD)')\n",
        "plt.title('Median salary (USD) by Age')\n",
        "plt.legend(['Salary in UK','Salary in USA'])\n",
        "plt.grid(True)\n",
        "plt.show()"
      ],
      "metadata": {
        "id": "3fdaBPdpAEIC"
      },
      "execution_count": null,
      "outputs": []
    },
    {
      "cell_type": "markdown",
      "source": [
        "Save the file in current directory"
      ],
      "metadata": {
        "id": "wv6tQze_BNq7"
      }
    },
    {
      "cell_type": "code",
      "source": [
        "#Saving in current directory\n",
        "import matplotlib.pyplot as plt\n",
        "plt.style.use('dark_background')\n",
        "x = [25,26,27,28,29,30,31,32,33,34,35]\n",
        "y = [38496, 42000, 46752, 49320, 53200,\n",
        "     56000, 62316, 64928, 67317, 68748, 73752]\n",
        "plt.plot(x,y,'o--r',linewidth=3,label='Salary in UK')\n",
        "y1 = [45372, 48876, 53850, 57287, 63016, 65998, 70003, 70000, 71496, 75370, 83640]\n",
        "plt.plot(x,y1,'d--y',linewidth=1,label='Salary in USA')\n",
        "plt.xlabel('Ages')\n",
        "plt.ylabel('Median salary (USD)')\n",
        "plt.title('Median salary (USD) by Age')\n",
        "plt.legend(['Salary in UK','Salary in USA'])\n",
        "plt.grid(True)\n",
        "plt.savefig('Age_slary.png')\n",
        "plt.show()"
      ],
      "metadata": {
        "id": "EhBbXYlVBjwr"
      },
      "execution_count": null,
      "outputs": []
    },
    {
      "cell_type": "markdown",
      "source": [
        "##Bar Charts and analyzing data from CSV"
      ],
      "metadata": {
        "id": "kBjmCTolB43v"
      }
    },
    {
      "cell_type": "code",
      "source": [
        "#Bar chart\n",
        "import matplotlib.pyplot as plt\n",
        "plt.style.use('dark_background')\n",
        "x = [25,26,27,28,29,30,31,32,33,34,35]\n",
        "y = [38496, 42000, 46752, 49320, 53200,\n",
        "     56000, 62316, 64928, 67317, 68748, 73752]\n",
        "plt.bar(x,y,label='Salary in UK')\n",
        "y1 = [45372, 48876, 53850, 57287, 63016, 65998, 70003, 70000, 71496, 75370, 83640]\n",
        "plt.bar(x,y1,label='Salary in USA')\n",
        "plt.xlabel('Ages')\n",
        "plt.ylabel('Median salary (USD)')\n",
        "plt.title('Median salary (USD) by Age')\n",
        "plt.legend(['Salary in UK','Salary in USA'])\n",
        "plt.grid(True)\n",
        "plt.savefig('Age_slary.png')\n",
        "plt.show()"
      ],
      "metadata": {
        "id": "xJ9Jh7UyCNDm"
      },
      "execution_count": null,
      "outputs": []
    },
    {
      "cell_type": "markdown",
      "source": [
        "But our bar charts are over lapping, if we want to plot all the bar charts side by side"
      ],
      "metadata": {
        "id": "PaFmDmSUDsKp"
      }
    },
    {
      "cell_type": "code",
      "source": [
        "#Bar chart\n",
        "import matplotlib.pyplot as plt\n",
        "import numpy as np\n",
        "plt.style.use('dark_background')\n",
        "x = [25,26,27,28,29,30,31,32,33,34,35]\n",
        "y = [38496, 42000, 46752, 49320, 53200,\n",
        "     56000, 62316, 64928, 67317, 68748, 73752]\n",
        "x_indices = np.arange(len(x))\n",
        "width = 0.5\n",
        "plt.bar(x_indices-width,y,width=width,label='Salary in UK')\n",
        "y1 = [45372, 48876, 53850, 57287, 63016, 65998, 70003, 70000, 71496, 75370, 83640]\n",
        "plt.bar(x_indices,y1,width=width,label='Salary in USA')\n",
        "plt.xlabel('Ages')\n",
        "plt.ylabel('Median salary (USD)')\n",
        "plt.title('Median salary (USD) by Age')\n",
        "plt.legend(['Salary in UK','Salary in USA'])\n",
        "plt.grid(True)\n",
        "plt.savefig('Age_slary.png')\n",
        "plt.show()"
      ],
      "metadata": {
        "id": "yyYz8xsWD1Ti"
      },
      "execution_count": null,
      "outputs": []
    },
    {
      "cell_type": "markdown",
      "source": [
        "Different asthetic style of the plot is available, we can choose any one according to our need"
      ],
      "metadata": {
        "id": "3bGdKV4Sgmqi"
      }
    },
    {
      "cell_type": "code",
      "source": [
        "print(plt.style.available)\n"
      ],
      "metadata": {
        "colab": {
          "base_uri": "https://localhost:8080/"
        },
        "id": "V7DOlO38gKiK",
        "outputId": "c6b08567-e9a6-4e3b-f21f-c01356804337"
      },
      "execution_count": null,
      "outputs": [
        {
          "output_type": "stream",
          "name": "stdout",
          "text": [
            "['Solarize_Light2', '_classic_test_patch', '_mpl-gallery', '_mpl-gallery-nogrid', 'bmh', 'classic', 'dark_background', 'fast', 'fivethirtyeight', 'ggplot', 'grayscale', 'seaborn-v0_8', 'seaborn-v0_8-bright', 'seaborn-v0_8-colorblind', 'seaborn-v0_8-dark', 'seaborn-v0_8-dark-palette', 'seaborn-v0_8-darkgrid', 'seaborn-v0_8-deep', 'seaborn-v0_8-muted', 'seaborn-v0_8-notebook', 'seaborn-v0_8-paper', 'seaborn-v0_8-pastel', 'seaborn-v0_8-poster', 'seaborn-v0_8-talk', 'seaborn-v0_8-ticks', 'seaborn-v0_8-white', 'seaborn-v0_8-whitegrid', 'tableau-colorblind10']\n"
          ]
        }
      ]
    },
    {
      "cell_type": "markdown",
      "source": [
        "##Pie Charts"
      ],
      "metadata": {
        "id": "ylBGlwcZJWWs"
      }
    },
    {
      "cell_type": "code",
      "source": [
        "import matplotlib.pyplot as plt\n",
        "\n",
        "slice = [60, 40]\n",
        "labels = ['sixty','forty']\n",
        "plt.pie(slice,labels = labels)\n",
        "plt.title('Example of Pie Chart')\n",
        "plt.tight_layout()\n",
        "plt.show()"
      ],
      "metadata": {
        "id": "q2blxuDTJYe2"
      },
      "execution_count": null,
      "outputs": []
    },
    {
      "cell_type": "code",
      "source": [
        "import matplotlib.pyplot as plt\n",
        "\n",
        "slice = [60, 40]\n",
        "colors = ['red','blue']\n",
        "labels = ['sixty','forty']\n",
        "plt.pie(slice,labels = labels,colors = colors)\n",
        "plt.title('Example of Pie Chart')\n",
        "plt.tight_layout()\n",
        "plt.show()"
      ],
      "metadata": {
        "id": "RWCVi7HPKTUy"
      },
      "execution_count": null,
      "outputs": []
    },
    {
      "cell_type": "markdown",
      "source": [
        "Exploding a portion of a pie chart using explode"
      ],
      "metadata": {
        "id": "lOomGKMKLrv6"
      }
    },
    {
      "cell_type": "code",
      "source": [
        "import matplotlib.pyplot as plt\n",
        "\n",
        "slice = [45321, 40231, 34562, 29801, 19023]\n",
        "colors = ['red','blue']\n",
        "labels = ['Delhi','Mumbai','Kolkota','Pune','Bhubaneswar']\n",
        "explode = [0,0,0,0.2,0]\n",
        "plt.pie(slice,labels = labels,colors = colors, explode = explode)\n",
        "plt.title('Example of Pie Chart')\n",
        "plt.tight_layout()\n",
        "plt.show()"
      ],
      "metadata": {
        "id": "Q83DKEt-Mir8"
      },
      "execution_count": null,
      "outputs": []
    },
    {
      "cell_type": "markdown",
      "source": [
        "Stack plot"
      ],
      "metadata": {
        "id": "DJm9ewcZM-LX"
      }
    },
    {
      "cell_type": "code",
      "source": [
        "import matplotlib.pyplot as plt\n",
        "\n",
        "plt.style.use('fivethirtyeight')\n",
        "\n",
        "labels = ['Athelete1','Athelete2','Athelete3']\n",
        "\n",
        "\n",
        "Session_Game = [1,2,3,4,5,6,7,8,9,10,11,12,13,14,15,16,17,18,19,20]\n",
        "Points_Score_Athelete1 = [1,1,1,0,1,3,2,2,2,3,4,4,4,3,3,5,6,7,8,9]\n",
        "Points_Score_Athelete2 = [0,1,1,2,2,3,3,3,3,2,4,4,3,3,4,5,6,6,7,7]\n",
        "Points_Score_Athelete3 = [0,1,1,1,1,1,2,2,2,2,2,2,3,3,4,4,4,5,5,5]\n",
        "\n",
        "plt.stackplot(Session_Game,Points_Score_Athelete1,Points_Score_Athelete2,Points_Score_Athelete3,labels = labels)\n",
        "plt.title('Session wise performance by each player')\n",
        "plt.legend(loc = 'upper left') # to position the legends\n",
        "#plt.legend(loc = (0.07,0.05))\n",
        "#plt.tight_layout()\n",
        "plt.show()"
      ],
      "metadata": {
        "id": "P-OXf26Ehk_I"
      },
      "execution_count": null,
      "outputs": []
    },
    {
      "cell_type": "code",
      "source": [
        "import matplotlib.pyplot as plt\n",
        "\n",
        "plt.style.use('fivethirtyeight')\n",
        "\n",
        "labels = ['Athelete1','Athelete2','Athelete3']\n",
        "\n",
        "#colors can be choosen\n",
        "colors = ['red','blue','green']\n",
        "\n",
        "Session_Game = [1,2,3,4,5,6,7,8,9,10,11,12,13,14,15,16,17,18,19,20]\n",
        "Points_Score_Athelete1 = [1,1,1,0,1,3,2,2,2,3,4,4,4,3,3,5,6,7,8,9]\n",
        "Points_Score_Athelete2 = [0,1,1,2,2,3,3,3,3,2,4,4,3,3,4,5,6,6,7,7]\n",
        "Points_Score_Athelete3 = [0,1,1,1,1,1,2,2,2,2,2,2,3,3,4,4,4,5,5,5]\n",
        "\n",
        "plt.stackplot(Session_Game,Points_Score_Athelete1,Points_Score_Athelete2,Points_Score_Athelete3,labels = labels, colors = colors)\n",
        "plt.title('Session wise performance by each player')\n",
        "plt.legend(loc = 'upper left') # to position the legends\n",
        "#plt.tight_layout()\n",
        "plt.show()"
      ],
      "metadata": {
        "id": "9HaB63xSrJiT"
      },
      "execution_count": null,
      "outputs": []
    },
    {
      "cell_type": "code",
      "source": [
        "help(plt.legend)"
      ],
      "metadata": {
        "id": "m4da8NgAmVcB"
      },
      "execution_count": null,
      "outputs": []
    },
    {
      "cell_type": "markdown",
      "source": [
        "Histogram"
      ],
      "metadata": {
        "id": "T1aynPbaH-u6"
      }
    },
    {
      "cell_type": "code",
      "source": [
        "import pandas as pd\n",
        "import matplotlib.pyplot as plt\n",
        "#plt.style.use('dark_background')\n",
        "ages = [18, 20, 24, 26, 28, 31, 23, 22, 35, 36, 39, 42]\n",
        "plt.hist(ages, bins = 5, edgecolor = 'red')\n",
        "plt.title(\"Histogram representation of different age group\")\n",
        "plt.xlabel('Ages')\n",
        "plt.ylabel('No.of persons')\n",
        "plt.show()"
      ],
      "metadata": {
        "id": "IOBs0tP9IBie"
      },
      "execution_count": null,
      "outputs": []
    },
    {
      "cell_type": "markdown",
      "source": [
        "Analyzing data from CSV file, here we will go for standard csv file"
      ],
      "metadata": {
        "id": "ESlvOgxpFGB3"
      }
    },
    {
      "cell_type": "code",
      "source": [
        "import csv\n",
        "import matplotlib.pyplot as plt\n",
        "import numpy as np\n",
        "plt.style.use('dark_background')\n",
        "with open('/content/sample_data/california_housing_test.csv','r') as csv_file:\n",
        "    csv_reader = csv.DictReader(csv_file)\n",
        "    row = next(csv_reader)\n",
        "    print(row)"
      ],
      "metadata": {
        "id": "E6WM7d0xqr0l"
      },
      "execution_count": null,
      "outputs": []
    },
    {
      "cell_type": "markdown",
      "source": [],
      "metadata": {
        "id": "8U4CqXi9Uhfv"
      }
    },
    {
      "cell_type": "code",
      "source": [
        "import pandas as pd\n",
        "\n",
        "# Replace 'your_file.csv' with the path to your CSV file\n",
        "file_path = '/content/sample_data/california_housing_test.csv'\n",
        "\n",
        "# Read the CSV file into a DataFrame\n",
        "df = pd.read_csv(file_path)\n",
        "\n",
        "# Display the head of the DataFrame\n",
        "print(df.head())"
      ],
      "metadata": {
        "id": "5TcG43sXqtty"
      },
      "execution_count": null,
      "outputs": []
    },
    {
      "cell_type": "code",
      "source": [
        "print(df.shape[0])\n",
        "bins = [1000, 2000, 3000]\n",
        "plt.hist(df['total_bedrooms'], bins = bins, edgecolor = 'red')\n",
        "plt.title(\"Histogram representation of different age group\")\n",
        "#median = np.median(df['total_bedrooms'])\n",
        "#plt.axvline(median,color = 'red', label = 'Median Bed_room')\n",
        "plt.xlabel('X')\n",
        "plt.ylabel('Y')\n",
        "plt.show()"
      ],
      "metadata": {
        "id": "VOo-IgiCKOrq"
      },
      "execution_count": null,
      "outputs": []
    },
    {
      "cell_type": "markdown",
      "source": [
        "Scatter plot"
      ],
      "metadata": {
        "id": "-Yil3v-SNT7k"
      }
    },
    {
      "cell_type": "code",
      "source": [
        "import pandas as pd\n",
        "import matplotlib.pyplot as plt\n",
        "\n",
        "plt.style.use('seaborn')\n",
        "\n",
        "x = [1,3,5,6,7,9,3,1,5,7,1,6,3,6,9,2,3,4]\n",
        "y = [3,5,6,7,9,5,8,1,9,3,4,7,2,5,7,3,4,5]\n",
        "\n",
        "plt.scatter(x,y,c = 'red')\n",
        "#setting size of scatter dots\n",
        "#plt.scatter(x,y,c = 'red', s = 10)\n",
        "#plt.scatter(x,y,c = 'red', s = 100, edgecolor = 'green')\n",
        "#plt.scatter(x,y,c = 'red', s = 100, edgecolor = 'green',alpha = 0.75)\n",
        "#colors = [4,5,1,2,7,9,2,5,7,1,4,9,3,4,2,9,1,7]\n",
        "#plt.scatter(x,y,c = colors, s = 100, edgecolor = 'green')\n",
        "#color map i.e. cmap\n",
        "#plt.scatter(x,y,c = colors, s = 100, edgecolor = 'green',cmap = 'Accent')\n",
        "#cbar = plt.colorbar()\n",
        "plt.title('Scatter plot')\n",
        "plt.xlabel('X')\n",
        "plt.ylabel('Y')\n",
        "plt.show()"
      ],
      "metadata": {
        "id": "jeEEQpSNNVtM"
      },
      "execution_count": null,
      "outputs": []
    },
    {
      "cell_type": "markdown",
      "source": [
        "Statistics of your data set"
      ],
      "metadata": {
        "id": "n82GWy_CvLAp"
      }
    },
    {
      "cell_type": "code",
      "source": [
        "import pandas as pd\n",
        "from scipy import stats\n",
        "\n",
        "# Replace 'your_file.csv' with the path to your CSV file\n",
        "file_path = '/content/sample_data/california_housing_test.csv'\n",
        "\n",
        "# Read the CSV file into a DataFrame\n",
        "df = pd.read_csv(file_path)\n",
        "\n",
        "# Display basic statistics of the dataset\n",
        "print(\"Descriptive Statistics:\")\n",
        "print(df.describe())"
      ],
      "metadata": {
        "id": "r19xqxqIvPTa"
      },
      "execution_count": null,
      "outputs": []
    },
    {
      "cell_type": "code",
      "source": [
        "import pandas as pd\n",
        "import matplotlib.pyplot as plt\n",
        "\n",
        "data = pd.read_csv('/content/sample_data/california_housing_test.csv')\n",
        "\n",
        "rooms = data['total_rooms']\n",
        "house_value = data['median_house_value']\n",
        "\n",
        "plt.plot(rooms,house_value)\n",
        "plt.title('California Housing Prices')\n",
        "plt.xlabel('Total Rooms')\n",
        "plt.ylabel('Median House Value')\n",
        "plt.tight_layout()\n",
        "plt.show()"
      ],
      "metadata": {
        "id": "vAzBSZifrPqZ"
      },
      "execution_count": null,
      "outputs": []
    },
    {
      "cell_type": "code",
      "source": [
        "bed_rooms = data['total_bedrooms']\n",
        "latitude = data['latitude']\n",
        "households = data['households']\n",
        "\n",
        "plt.scatter(latitude,bed_rooms,color = 'red')\n",
        "plt.scatter(latitude,house_value)\n",
        "plt.title('California Housing Prices')\n",
        "plt.xlabel('Total Rooms')\n",
        "plt.ylabel('Median House Value')\n",
        "plt.tight_layout()\n",
        "plt.show()"
      ],
      "metadata": {
        "id": "V2PkyPBprqzz"
      },
      "execution_count": null,
      "outputs": []
    },
    {
      "cell_type": "code",
      "source": [
        "!pip install kaggle\n",
        "!mkdir ~/.kaggle\n",
        "!cp /content/drive/MyDrive/kaggle_API_credential/kaggle.json ~/.kaggle/kaggle.json\n",
        "!chmod 600 ~/.kaggle/kaggle.json"
      ],
      "metadata": {
        "id": "zGkekTqjwrXC"
      },
      "execution_count": null,
      "outputs": []
    },
    {
      "cell_type": "code",
      "source": [
        "!kaggle datasets download"
      ],
      "metadata": {
        "id": "d5Ee_uCNwtYF"
      },
      "execution_count": null,
      "outputs": []
    },
    {
      "cell_type": "code",
      "source": [
        "!unzip"
      ],
      "metadata": {
        "id": "_MEJDnruy2dL"
      },
      "execution_count": null,
      "outputs": []
    },
    {
      "cell_type": "code",
      "source": [
        "# Replace 'your_file.csv' with the path to your CSV file\n",
        "file_path = ''\n",
        "\n",
        "# Read the CSV file into a DataFrame\n",
        "df = pd.read_csv(file_path)\n",
        "\n",
        "# Display basic statistics of the dataset\n",
        "print(\"Descriptive Statistics:\")\n",
        "print(df)"
      ],
      "metadata": {
        "id": "2YIYytzeyqgU"
      },
      "execution_count": null,
      "outputs": []
    },
    {
      "cell_type": "code",
      "source": [
        "print(df)"
      ],
      "metadata": {
        "id": "SOCPsv2gzoga"
      },
      "execution_count": null,
      "outputs": []
    }
  ]
}